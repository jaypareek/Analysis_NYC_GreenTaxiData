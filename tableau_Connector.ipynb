{
 "cells": [
  {
   "cell_type": "code",
   "execution_count": null,
   "id": "9a8d926e-5c1c-4cd9-ba3a-a974250dfbec",
   "metadata": {},
   "outputs": [],
   "source": [
    "import pandas as pd\n",
    "import pyarrow.parquet as pq\n",
    "import tabpy\n",
    "\n",
    "# Connect to Tableau Server\n",
    "tableau = tabpy.connect('http://localhost:8080', 'username', 'password')\n",
    "\n",
    "# Import data from a CSV file\n",
    "df = pd.read_csv('data.csv')\n",
    "\n",
    "# Create a Tableau workbook\n",
    "workbook = tableau.create_workbook('my_workbook.twbx')\n",
    "\n",
    "# Create a Tableau worksheet\n",
    "worksheet = workbook.create_worksheet('my_worksheet')\n",
    "\n",
    "# Add the data to the worksheet\n",
    "worksheet.add_data(df)\n",
    "\n",
    "# Save the workbook\n",
    "workbook.save()\n",
    "\n",
    "# Publish the workbook to Tableau Server\n",
    "tableau.publish_workbook(workbook)"
   ]
  }
 ],
 "metadata": {
  "kernelspec": {
   "display_name": "Python 3",
   "language": "python",
   "name": "python3"
  },
  "language_info": {
   "codemirror_mode": {
    "name": "ipython",
    "version": 3
   },
   "file_extension": ".py",
   "mimetype": "text/x-python",
   "name": "python",
   "nbconvert_exporter": "python",
   "pygments_lexer": "ipython3",
   "version": "3.10.6 (main, Aug 30 2022, 04:58:14) [Clang 13.1.6 (clang-1316.0.21.2.5)]"
  },
  "vscode": {
   "interpreter": {
    "hash": "b0fa6594d8f4cbf19f97940f81e996739fb7646882a419484c72d19e05852a7e"
   }
  }
 },
 "nbformat": 4,
 "nbformat_minor": 5
}
